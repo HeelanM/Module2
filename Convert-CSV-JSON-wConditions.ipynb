{
 "cells": [
  {
   "cell_type": "code",
   "execution_count": null,
   "id": "e460b810",
   "metadata": {},
   "outputs": [],
   "source": [
    "# Import necessary modules\n",
    "import pandas as pd\n",
    "import json"
   ]
  },
  {
   "cell_type": "code",
   "execution_count": null,
   "id": "e89fe7ed",
   "metadata": {},
   "outputs": [],
   "source": [
    "#save path and load the file\n",
    "path = 'Downloads/wine-ratings-small.csv'\n",
    "\n",
    "file = pd.read_csv(path)\n",
    "\n",
    "#change column name for index\n",
    "file.rename(columns={'Unnamed: 0': 'Wine_ID'}, inplace=True)\n",
    "\n",
    "# Preview file\n",
    "file.head()"
   ]
  },
  {
   "cell_type": "code",
   "execution_count": null,
   "id": "8775aeca",
   "metadata": {},
   "outputs": [],
   "source": [
    "# Select wines with rating of only 91 or 92\n",
    "good_wine = file.loc[(file.rating > 90) & (file.rating <= 92) & (file.variety == 'White Wine')]\n",
    "good_wine"
   ]
  },
  {
   "cell_type": "code",
   "execution_count": null,
   "id": "26ab893f",
   "metadata": {},
   "outputs": [],
   "source": [
    "# Convert datafrome to a dictionary setting Wine_ID as the index\n",
    "wine_dict = good_wine.set_index('Wine_ID').T.to_dict()"
   ]
  },
  {
   "cell_type": "code",
   "execution_count": null,
   "id": "78a320f4",
   "metadata": {},
   "outputs": [],
   "source": [
    "# Convert the dictionary to json format\n",
    "json_names = json.dumps(wine_dict, sort_keys=True, indent=2)\n",
    "print(json_names)"
   ]
  },
  {
   "cell_type": "code",
   "execution_count": null,
   "id": "d50b21e0",
   "metadata": {},
   "outputs": [],
   "source": [
    "# Save the json file to disk\n",
    "with open('Downloads/good_wines.json', 'w') as f:\n",
    "    json.dump(json_names, f)"
   ]
  },
  {
   "cell_type": "code",
   "execution_count": null,
   "id": "8fef660f",
   "metadata": {},
   "outputs": [],
   "source": [
    "# Open newly created json file to ensure everything worked\n",
    "with open('Downloads/good_wines.json') as f:\n",
    "    loaded_json = json.load(f)\n",
    "print(loaded_json)"
   ]
  }
 ],
 "metadata": {
  "kernelspec": {
   "display_name": "Python 3 (ipykernel)",
   "language": "python",
   "name": "python3"
  },
  "language_info": {
   "codemirror_mode": {
    "name": "ipython",
    "version": 3
   },
   "file_extension": ".py",
   "mimetype": "text/x-python",
   "name": "python",
   "nbconvert_exporter": "python",
   "pygments_lexer": "ipython3",
   "version": "3.9.4"
  }
 },
 "nbformat": 4,
 "nbformat_minor": 5
}
